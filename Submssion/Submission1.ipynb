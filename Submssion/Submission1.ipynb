{
 "cells": [
  {
   "cell_type": "code",
   "execution_count": 3,
   "id": "011f88da-ae08-49f2-9cca-823c844ac8cd",
   "metadata": {},
   "outputs": [],
   "source": [
    "import pandas as pd\n",
    "import numpy as np\n",
    "import matplotlib.pyplot as plt\n",
    "import seaborn as sns\n",
    "import warnings\n",
    "import os\n",
    "warnings.filterwarnings('ignore')\n",
    "from sklearn.model_selection import train_test_split\n",
    "from sklearn.ensemble import RandomForestRegressor\n",
    "from sklearn.metrics import mean_absolute_percentage_error\n",
    "from sklearn.multioutput import MultiOutputRegressor\n",
    "from sklearn.preprocessing import StandardScaler, PowerTransformer,QuantileTransformer\n",
    "from sklearn.model_selection import GridSearchCV, cross_val_score\n",
    "from catboost import CatBoostRegressor,Pool"
   ]
  },
  {
   "cell_type": "code",
   "execution_count": 19,
   "id": "bc1c0e2c-d59f-473d-a189-24025e9349c3",
   "metadata": {},
   "outputs": [],
   "source": [
    "import os\n",
    "import pandas as pd\n",
    "\n",
    "# Construct the path\n",
    "base_path = os.path.join(\"/\", \"Volumes\", \"Extreme SSD\", \"ShellAi\")\n",
    "train_path = os.path.join(base_path, \"train.csv\")\n",
    "test_path = os.path.join(base_path, \"test.csv\")\n",
    "\n",
    "# Load the CSV files\n",
    "train_df = pd.read_csv(train_path)\n",
    "test_df = pd.read_csv(test_path)"
   ]
  },
  {
   "cell_type": "code",
   "execution_count": 13,
   "id": "d2e655e2-d233-454c-a3cd-c666af915e9c",
   "metadata": {},
   "outputs": [
    {
     "name": "stdout",
     "output_type": "stream",
     "text": [
      "Expected targets: ['BlendProperty1', 'BlendProperty2', 'BlendProperty3', 'BlendProperty4', 'BlendProperty5', 'BlendProperty6', 'BlendProperty7', 'BlendProperty8', 'BlendProperty9', 'BlendProperty10']\n",
      "Actual test_df columns: ['ID', 'Component1_fraction', 'Component2_fraction', 'Component3_fraction', 'Component4_fraction', 'Component5_fraction', 'Component1_Property1', 'Component2_Property1', 'Component3_Property1', 'Component4_Property1', 'Component5_Property1', 'Component1_Property2', 'Component2_Property2', 'Component3_Property2', 'Component4_Property2', 'Component5_Property2', 'Component1_Property3', 'Component2_Property3', 'Component3_Property3', 'Component4_Property3', 'Component5_Property3', 'Component1_Property4', 'Component2_Property4', 'Component3_Property4', 'Component4_Property4', 'Component5_Property4', 'Component1_Property5', 'Component2_Property5', 'Component3_Property5', 'Component4_Property5', 'Component5_Property5', 'Component1_Property6', 'Component2_Property6', 'Component3_Property6', 'Component4_Property6', 'Component5_Property6', 'Component1_Property7', 'Component2_Property7', 'Component3_Property7', 'Component4_Property7', 'Component5_Property7', 'Component1_Property8', 'Component2_Property8', 'Component3_Property8', 'Component4_Property8', 'Component5_Property8', 'Component1_Property9', 'Component2_Property9', 'Component3_Property9', 'Component4_Property9', 'Component5_Property9', 'Component1_Property10', 'Component2_Property10', 'Component3_Property10', 'Component4_Property10', 'Component5_Property10']\n"
     ]
    }
   ],
   "source": [
    "print(\"Expected targets:\", targets)\n",
    "print(\"Actual test_df columns:\", test_df.columns.tolist())"
   ]
  },
  {
   "cell_type": "code",
   "execution_count": 8,
   "id": "7826b1c2-c682-4114-9b4d-03fad92a194a",
   "metadata": {},
   "outputs": [],
   "source": [
    "# Creating  weighted columns\n",
    "base_features = [col for col in test_df.columns if col not in [f\"BlendProperty{i}\" for i in range(1, 11)]]\n",
    "targets = [f\"BlendProperty{i}\" for i in range(1, 11)]\n",
    "weighted_data = {}\n",
    "for i in range(1, 6):\n",
    "    for j in range(1, 11):\n",
    "        prop_col = f\"Component{i}_Property{j}\"\n",
    "        frac_col = f\"Component{i}_fraction\"\n",
    "        weighted_col = f\"Weighted_Component{i}_Property{j}\"\n",
    "        weighted_data[weighted_col] = test_df[prop_col] * test_df[frac_col]\n",
    "\n",
    "# Combine\n",
    "data_with_weighted = pd.concat([test_df[base_features], pd.DataFrame(weighted_data)], axis=1)\n",
    "data_with_weighted = data_with_weighted.copy()  # De-fragmented copy"
   ]
  },
  {
   "cell_type": "code",
   "execution_count": 23,
   "id": "ad97b66b-b4f6-4724-a1e6-01000454b435",
   "metadata": {},
   "outputs": [
    {
     "name": "stdout",
     "output_type": "stream",
     "text": [
      "🔹 Training and predicting for: BlendProperty1\n",
      "🔹 Training and predicting for: BlendProperty2\n",
      "🔹 Training and predicting for: BlendProperty3\n",
      "🔹 Training and predicting for: BlendProperty4\n",
      "🔹 Training and predicting for: BlendProperty5\n",
      "🔹 Training and predicting for: BlendProperty6\n",
      "🔹 Training and predicting for: BlendProperty7\n",
      "🔹 Training and predicting for: BlendProperty8\n",
      "🔹 Training and predicting for: BlendProperty9\n",
      "🔹 Training and predicting for: BlendProperty10\n",
      "✅ submission.csv saved successfully!\n"
     ]
    }
   ],
   "source": [
    "import pandas as pd\n",
    "import numpy as np\n",
    "from sklearn.preprocessing import StandardScaler, PowerTransformer\n",
    "from sklearn.ensemble import RandomForestRegressor\n",
    "from catboost import CatBoostRegressor\n",
    "\n",
    "# STEP 0: Define target and feature columns\n",
    "targets = [f\"BlendProperty{i}\" for i in range(1, 11)]\n",
    "base_features = [col for col in train_df.columns if col not in targets]\n",
    "\n",
    "# STEP 1: Scale training features\n",
    "scaler = StandardScaler()\n",
    "scaled_features = scaler.fit_transform(train_df[base_features])\n",
    "scaled_df_features = pd.DataFrame(scaled_features, columns=base_features, index=train_df.index)\n",
    "\n",
    "# STEP 2: Apply PowerTransformer to training targets\n",
    "pt = PowerTransformer(method='yeo-johnson')\n",
    "transformed_targets_df = pd.DataFrame(\n",
    "    pt.fit_transform(train_df[targets]),\n",
    "    columns=targets,\n",
    "    index=train_df.index\n",
    ")\n",
    "\n",
    "# STEP 3: Feature selection using Random Forest\n",
    "top_features = {}\n",
    "for target in targets:\n",
    "    X = scaled_df_features\n",
    "    y = transformed_targets_df[target]\n",
    "    \n",
    "    rf_initial = RandomForestRegressor(n_estimators=100, random_state=42)\n",
    "    rf_initial.fit(X, y)\n",
    "    \n",
    "    feature_importance = pd.Series(\n",
    "        rf_initial.feature_importances_,\n",
    "        index=scaled_df_features.columns\n",
    "    ).sort_values(ascending=False)\n",
    "    \n",
    "    top_features[target] = feature_importance.head(20).index.tolist()\n",
    "\n",
    "# STEP 4: Prepare scaled test features\n",
    "scaled_test_features = scaler.transform(test_df[base_features])\n",
    "scaled_df_test = pd.DataFrame(scaled_test_features, columns=base_features, index=test_df.index)\n",
    "\n",
    "# STEP 5: Train CatBoost and Predict\n",
    "all_preds_transformed = []\n",
    "\n",
    "for target in targets:\n",
    "    print(f\"🔹 Training and predicting for: {target}\")\n",
    "    \n",
    "    X_train = scaled_df_features[top_features[target]]\n",
    "    y_train = transformed_targets_df[target]\n",
    "    X_test = scaled_df_test[top_features[target]]\n",
    "    \n",
    "    model = CatBoostRegressor(verbose=0, random_state=42)\n",
    "    model.fit(X_train, y_train)\n",
    "    \n",
    "    y_pred_transformed = model.predict(X_test)\n",
    "    all_preds_transformed.append(y_pred_transformed)\n",
    "\n",
    "# STEP 6: Inverse transform all predictions together\n",
    "all_preds_transformed = np.column_stack(all_preds_transformed)  # Shape: (n_samples, 10)\n",
    "all_preds_original = pt.inverse_transform(all_preds_transformed)\n",
    "\n",
    "# STEP 7: Prepare submission DataFrame\n",
    "submission = pd.DataFrame(all_preds_original, columns=targets, index=test_df.index)\n",
    "\n",
    "# Include ID column if available\n",
    "if 'ID' in test_df.columns:\n",
    "    submission.insert(0, 'ID', test_df['ID'].values)\n",
    "\n",
    "# STEP 8: Save to CSV\n",
    "submission.to_csv(\"submission.csv\", index=False)\n",
    "print(\"✅ submission.csv saved successfully!\")"
   ]
  }
 ],
 "metadata": {
  "kernelspec": {
   "display_name": "Python 3 (ipykernel)",
   "language": "python",
   "name": "python3"
  },
  "language_info": {
   "codemirror_mode": {
    "name": "ipython",
    "version": 3
   },
   "file_extension": ".py",
   "mimetype": "text/x-python",
   "name": "python",
   "nbconvert_exporter": "python",
   "pygments_lexer": "ipython3",
   "version": "3.12.2"
  }
 },
 "nbformat": 4,
 "nbformat_minor": 5
}
