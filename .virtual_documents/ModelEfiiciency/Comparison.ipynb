import matplotlib.pyplot as plt

# Final MAPE values for each model
rf_mape = {
    'BlendProperty1': 5.78,
    'BlendProperty2': 1.88,
    'BlendProperty3': 1.46,
    'BlendProperty4': 47.21,
    'BlendProperty5': 0.01,
    'BlendProperty6': 3.64,
    'BlendProperty7': 1.99,
    'BlendProperty8': 2.81,
    'BlendProperty9': 19.27,
    'BlendProperty10': 0.66
}

xgb_mape = {
    'BlendProperty1': 4.68,
    'BlendProperty2': 0.00,
    'BlendProperty3': 2.45,
    'BlendProperty4': 26.26,
    'BlendProperty5': 0.17,
    'BlendProperty6': 11.01,
    'BlendProperty7': 1.98,
    'BlendProperty8': 1.80,
    'BlendProperty9': 18.43,
    'BlendProperty10': 0.60
}

lgbm_mape = {
    'BlendProperty1': 0.9187,
    'BlendProperty2': 1.4066,
    'BlendProperty3': 2.3454,
    'BlendProperty4': 19.2350,
    'BlendProperty5': 0.8199,
    'BlendProperty6': 2.1834,
    'BlendProperty7': 1.6816,
    'BlendProperty8': 1.2552,
    'BlendProperty9': 40.7905,
    'BlendProperty10': 0.1174
}

cat_mape = {
    'BlendProperty1': 0.70,
    'BlendProperty2': 1.27,
    'BlendProperty3': 0.38,
    'BlendProperty4': 34.82,
    'BlendProperty5': 0.71,
    'BlendProperty6': 1.51,
    'BlendProperty7': 1.63,
    'BlendProperty8': 0.56,
    'BlendProperty9': 23.33,
    'BlendProperty10': 0.38
}

# Combine into one structure
blend_properties = list(rf_mape.keys())
models = ['RandomForest', 'XGBoost', 'LightGBM', 'CatBoost']
mape_values = {
    'RandomForest': [rf_mape[prop] for prop in blend_properties],
    'XGBoost': [xgb_mape[prop] for prop in blend_properties],
    'LightGBM': [lgbm_mape[prop] for prop in blend_properties],
    'CatBoost': [cat_mape[prop] for prop in blend_properties]
}

# Plotting
bar_width = 0.2
x = range(len(blend_properties))

plt.figure(figsize=(14, 6))
for i, model in enumerate(models):
    offset = i * bar_width
    plt.bar([pos + offset for pos in x], mape_values[model], width=bar_width, label=model)

# Center x-ticks for group labels
plt.xticks([pos + 1.5 * bar_width for pos in x], blend_properties, rotation=45)
plt.ylabel("MAPE (%)")
plt.title("Model Comparison: Test MAPE (Original Scale) for Blend Properties")
plt.legend(title="Model")
plt.grid(True, axis='y')
plt.tight_layout()
plt.show()


# Compute average MAPE for each model
average_mape = {
    'RandomForest': sum(rf_mape.values()) / len(rf_mape),
    'XGBoost': sum(xgb_mape.values()) / len(xgb_mape),
    'LightGBM': sum(lgbm_mape.values()) / len(lgbm_mape),
    'CatBoost': sum(cat_mape.values()) / len(cat_mape)
}

print("📊 Average Test MAPE (%) per Model:")
for model, avg in average_mape.items():
    print(f"{model}: {avg:.4f}%")
