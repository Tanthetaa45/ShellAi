{
 "cells": [
  {
   "cell_type": "code",
   "execution_count": null,
   "metadata": {
    "id": "R2cYlW0X0Nzs"
   },
   "outputs": [],
   "source": [
    "import pandas as pd\n",
    "import numpy as np\n",
    "from sklearn.ensemble import RandomForestRegressor\n",
    "from sklearn.model_selection import train_test_split, GridSearchCV, cross_val_score\n",
    "from sklearn.metrics import mean_absolute_percentage_error\n",
    "from sklearn.preprocessing import StandardScaler, PowerTransformer\n",
    "\n"
   ]
  },
  {
   "cell_type": "code",
   "execution_count": null,
   "metadata": {
    "id": "ZNnjoqBh0-6M"
   },
   "outputs": [],
   "source": [
    "# Load the data\n",
    "data = pd.read_csv(\"train.csv\")\n",
    "\n",
    "#\n",
    "base_features = [col for col in data.columns if col not in [f\"BlendProperty{i}\" for i in range(1, 11)]]\n",
    "targets = [f\"BlendProperty{i}\" for i in range(1, 11)]"
   ]
  },
  {
   "cell_type": "code",
   "execution_count": null,
   "metadata": {
    "id": "8ZmMlx1v1CVa"
   },
   "outputs": [],
   "source": [
    "# Outlier handling using IQR method\n",
    "def remove_outliers(df, column):\n",
    "    Q1 = df[column].quantile(0.25)\n",
    "    Q3 = df[column].quantile(0.75)\n",
    "    IQR = Q3 - Q1\n",
    "    lower_bound = Q1 - 1.5 * IQR\n",
    "    upper_bound = Q3 + 1.5 * IQR\n",
    "    df[column] = df[column].clip(lower_bound, upper_bound)\n",
    "    return df\n",
    "\n",
    "for column in data.columns:\n",
    "    data = remove_outliers(data, column)"
   ]
  },
  {
   "cell_type": "code",
   "execution_count": null,
   "metadata": {
    "id": "qKLA-JUd1F_w"
   },
   "outputs": [],
   "source": [
    "# Creating  weighted columns\n",
    "weighted_data = {}\n",
    "for i in range(1, 6):\n",
    "    for j in range(1, 11):\n",
    "        prop_col = f\"Component{i}_Property{j}\"\n",
    "        frac_col = f\"Component{i}_fraction\"\n",
    "        weighted_col = f\"Weighted_Component{i}_Property{j}\"\n",
    "        weighted_data[weighted_col] = data[prop_col] * data[frac_col]\n",
    "\n",
    "# Combine\n",
    "data_with_weighted = pd.concat([data[base_features], pd.DataFrame(weighted_data)], axis=1)\n",
    "data_with_weighted = data_with_weighted.copy()  # De-fragmented copy"
   ]
  },
  {
   "cell_type": "code",
   "execution_count": null,
   "metadata": {
    "id": "Pvlj1NFw1pjR"
   },
   "outputs": [],
   "source": [
    "scaler = StandardScaler()\n",
    "scaled_features = scaler.fit_transform(data_with_weighted)\n",
    "scaled_df_features = pd.DataFrame(scaled_features, columns=data_with_weighted.columns)\n",
    "\n",
    "\n",
    "pt = PowerTransformer(method='yeo-johnson')\n",
    "transformed_targets_df = pd.DataFrame(pt.fit_transform(data[targets]), columns=targets, index=data.index)\n",
    "\n",
    "# Initial feature selection using Random Forest feature importance\n",
    "top_features = {}\n",
    "for target in targets:\n",
    "    X = scaled_df_features\n",
    "    y = transformed_targets_df[target]\n",
    "    rf_initial = RandomForestRegressor(n_estimators=100, random_state=42)\n",
    "    rf_initial.fit(X, y)\n",
    "    feature_importance = pd.Series(rf_initial.feature_importances_, index=scaled_df_features.columns).sort_values(ascending=False)\n",
    "    top_features[target] = feature_importance.head(20).index.tolist()\n",
    "\n",
    "# GridSearchCV\n",
    "param_grid = {\n",
    "    'n_estimators': [100, 200],\n",
    "    'max_depth': [10, 20,]\n",
    "\n",
    "}\n"
   ]
  },
  {
   "cell_type": "code",
   "execution_count": 1,
   "metadata": {
    "colab": {
     "base_uri": "https://localhost:8080/"
    },
    "id": "Sp9krHWKqSS6",
    "outputId": "e88097fe-5a61-4228-f059-e07ad3790483"
   },
   "outputs": [
    {
     "name": "stdout",
     "output_type": "stream",
     "text": [
      "Best params for BlendProperty1: {'max_depth': 20, 'n_estimators': 200}\n",
      "Cross-validated MAPE for BlendProperty1 (transformed): 129.99%\n",
      "Test MAPE for BlendProperty1 (original scale): 5.77%\n",
      "Best params for BlendProperty2: {'max_depth': 20, 'n_estimators': 100}\n",
      "Cross-validated MAPE for BlendProperty2 (transformed): 138.59%\n",
      "Test MAPE for BlendProperty2 (original scale): 2.37%\n",
      "Best params for BlendProperty3: {'max_depth': 20, 'n_estimators': 100}\n",
      "Cross-validated MAPE for BlendProperty3 (transformed): 127.84%\n",
      "Test MAPE for BlendProperty3 (original scale): 2.71%\n",
      "Best params for BlendProperty4: {'max_depth': 20, 'n_estimators': 100}\n",
      "Cross-validated MAPE for BlendProperty4 (transformed): 87.94%\n",
      "Test MAPE for BlendProperty4 (original scale): 48.63%\n",
      "Best params for BlendProperty5: {'max_depth': 10, 'n_estimators': 100}\n",
      "Cross-validated MAPE for BlendProperty5 (transformed): 7.63%\n",
      "Test MAPE for BlendProperty5 (original scale): 0.01%\n",
      "Best params for BlendProperty6: {'max_depth': 20, 'n_estimators': 200}\n",
      "Cross-validated MAPE for BlendProperty6 (transformed): 141.59%\n",
      "Test MAPE for BlendProperty6 (original scale): 4.15%\n",
      "Best params for BlendProperty7: {'max_depth': 20, 'n_estimators': 200}\n",
      "Cross-validated MAPE for BlendProperty7 (transformed): 168.45%\n",
      "Test MAPE for BlendProperty7 (original scale): 1.95%\n",
      "Best params for BlendProperty8: {'max_depth': 20, 'n_estimators': 200}\n",
      "Cross-validated MAPE for BlendProperty8 (transformed): 137.33%\n",
      "Test MAPE for BlendProperty8 (original scale): 2.77%\n",
      "Best params for BlendProperty9: {'max_depth': 20, 'n_estimators': 200}\n",
      "Cross-validated MAPE for BlendProperty9 (transformed): 116.44%\n",
      "Test MAPE for BlendProperty9 (original scale): 30.17%\n",
      "Best params for BlendProperty10: {'max_depth': 20, 'n_estimators': 100}\n",
      "Cross-validated MAPE for BlendProperty10 (transformed): 87.22%\n",
      "Test MAPE for BlendProperty10 (original scale): 0.55%\n"
     ]
    }
   ],
   "source": [
    "\n",
    "# Train and evaluate\n",
    "for target in targets:\n",
    "    X = scaled_df_features[top_features[target]]\n",
    "    y = transformed_targets_df[target]\n",
    "\n",
    "\n",
    "    X_train, X_test, y_train, y_test = train_test_split(X, y, test_size=0.2, random_state=42)\n",
    "\n",
    "    # GridSearchCV for hyperparameter tuning\n",
    "    rf = RandomForestRegressor(random_state=42)\n",
    "    grid_search = GridSearchCV(rf, param_grid, cv=5, scoring='neg_mean_absolute_percentage_error', n_jobs=-1)\n",
    "    grid_search.fit(X_train, y_train)\n",
    "\n",
    "    # Best model\n",
    "    best_rf = grid_search.best_estimator_\n",
    "    print(f\"Best params for {target}: {grid_search.best_params_}\")\n",
    "\n",
    "\n",
    "    cv_mape = -cross_val_score(best_rf, X_train, y_train, cv=5, scoring='neg_mean_absolute_percentage_error').mean() * 100\n",
    "    print(f\"Cross-validated MAPE for {target} (transformed): {cv_mape:.2f}%\")\n",
    "\n",
    "\n",
    "    y_pred = best_rf.predict(X_test)\n",
    "\n",
    "    y_test_full = pd.DataFrame(np.column_stack([y_test] + [np.zeros(len(y_test))]*(len(targets)-1)), columns=targets, index=X_test.index)\n",
    "    y_pred_full = pd.DataFrame(np.column_stack([y_pred] + [np.zeros(len(y_pred))]*(len(targets)-1)), columns=targets, index=X_test.index)\n",
    "    y_test_inv = pt.inverse_transform(y_test_full)[targets.index(target)]\n",
    "    y_pred_inv = pt.inverse_transform(y_pred_full)[targets.index(target)]\n",
    "\n",
    "    # Handle zero/near-zero values in MAPE calculation\n",
    "    mask = y_test_inv != 0\n",
    "    test_mape = np.mean(np.abs((y_test_inv[mask] - y_pred_inv[mask]) / y_test_inv[mask]) * 100) if mask.any() else 0.0\n",
    "    print(f\"Test MAPE for {target} (original scale): {test_mape:.2f}%\")\n"
   ]
  },
  {
   "cell_type": "code",
   "execution_count": null,
   "metadata": {
    "id": "gho6dmNOqaaH"
   },
   "outputs": [],
   "source": []
  }
 ],
 "metadata": {
  "colab": {
   "provenance": []
  },
  "kernelspec": {
   "display_name": "Python 3 (ipykernel)",
   "language": "python",
   "name": "python3"
  },
  "language_info": {
   "codemirror_mode": {
    "name": "ipython",
    "version": 3
   },
   "file_extension": ".py",
   "mimetype": "text/x-python",
   "name": "python",
   "nbconvert_exporter": "python",
   "pygments_lexer": "ipython3",
   "version": "3.12.2"
  }
 },
 "nbformat": 4,
 "nbformat_minor": 4
}
